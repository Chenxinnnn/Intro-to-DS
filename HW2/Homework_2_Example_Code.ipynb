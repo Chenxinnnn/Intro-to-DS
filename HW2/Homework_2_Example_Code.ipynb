{
 "cells": [
  {
   "cell_type": "code",
   "execution_count": 1,
   "metadata": {},
   "outputs": [],
   "source": [
    "# 9/30/19, Prof Spirling, Prof Jones-Rooy\n",
    "# This notebook provides code which will be helpful for those completing HW2 in DS4E\n",
    "# In general, only small changes should be required to answer the questions in the HW."
   ]
  },
  {
   "cell_type": "code",
   "execution_count": 2,
   "metadata": {},
   "outputs": [],
   "source": [
    "# let's import the datascience package, \n",
    "from datascience import *\n",
    "# and numpy...\n",
    "import numpy as np\n",
    "# and matplotlib...\n",
    "import matplotlib\n",
    "matplotlib.use('Agg', warn=False)\n",
    "%matplotlib inline\n",
    "import matplotlib.pyplot as plots\n"
   ]
  },
  {
   "cell_type": "code",
   "execution_count": 3,
   "metadata": {},
   "outputs": [
    {
     "data": {
      "text/plain": [
       "5"
      ]
     },
     "execution_count": 3,
     "metadata": {},
     "output_type": "execute_result"
    }
   ],
   "source": [
    "# we will create a vector\n",
    "vec =  np.array([1,3,9,7,5,2,12])\n",
    "# we can take the median of this vector\n",
    "percentile(50, vec)"
   ]
  },
  {
   "cell_type": "code",
   "execution_count": 4,
   "metadata": {},
   "outputs": [
    {
     "data": {
      "image/png": "[encoded data removed]",
      "text/plain": [
       "<Figure size 432x288 with 1 Axes>"
      ]
     },
     "metadata": {
      "needs_background": "light"
     },
     "output_type": "display_data"
    }
   ],
   "source": [
    "# let's follow the die rolling example from the textbook\n",
    "# First we need to define the possible outcomes of the die roll\n",
    "die = Table().with_column('Face', np.arange(1, 7, 1))\n",
    "\n",
    "#this is a discrete random variable, so we need to define some \"bins\" \n",
    "# to take the \"results\" of the simulations below\n",
    "die_bins = np.arange(0.5, 6.6, 1)\n",
    "\n",
    "# now we will simulate 25 rolls and draw the histogram\n",
    "# first, we have to define what the histogram is\n",
    "def empirical_hist_die(n):\n",
    "    die.sample(n).hist(bins = die_bins)\n",
    "#then, we can do the simulation\n",
    "empirical_hist_die(25)"
   ]
  },
  {
   "cell_type": "code",
   "execution_count": 5,
   "metadata": {},
   "outputs": [
    {
     "data": {
      "image/png": "[encoded data removed]",
      "text/plain": [
       "<Figure size 432x288 with 1 Axes>"
      ]
     },
     "metadata": {
      "needs_background": "light"
     },
     "output_type": "display_data"
    }
   ],
   "source": [
    "#to see the LLN at work, let's try 10000 simulations\n",
    "empirical_hist_die(10000)\n",
    "#what do we notice about the heights of the bins?"
   ]
  },
  {
   "cell_type": "code",
   "execution_count": 6,
   "metadata": {},
   "outputs": [
    {
     "data": {
      "text/plain": [
       "58850.0"
      ]
     },
     "execution_count": 6,
     "metadata": {},
     "output_type": "execute_result"
    }
   ],
   "source": [
    "# Now we will sample from a population.\n",
    "# The population in question is all the NYC employee salaries\n",
    "nyc_salary_full = Table.read_table('nyc_population_salaries.csv')\n",
    "# we can get the median base salary via\n",
    "percentile(50, nyc_salary_full.column('Base.Salary'))\n",
    "# we could also look at OT.Hours or any other variable for which a median makes sense"
   ]
  },
  {
   "cell_type": "code",
   "execution_count": 7,
   "metadata": {},
   "outputs": [
    {
     "data": {
      "text/plain": [
       "61869.070649128436"
      ]
     },
     "execution_count": 7,
     "metadata": {},
     "output_type": "execute_result"
    }
   ],
   "source": [
    "# we can take the mean as well.  \n",
    "# Do you expect it to be higher or lower than the median in this case?\n",
    "np.mean(nyc_salary_full.column('Base.Salary'))"
   ]
  },
  {
   "cell_type": "code",
   "execution_count": 8,
   "metadata": {},
   "outputs": [
    {
     "name": "stdout",
     "output_type": "stream",
     "text": [
      "61460.2\n",
      "61624.92288\n"
     ]
    }
   ],
   "source": [
    "# let's take a sample from the NYC data (without replacement)\n",
    "# and take the mean of Base Salary.  How close do we get to the population \n",
    "# mean?\n",
    "\n",
    "#first let's take a sample of 20\n",
    "sample_20 = nyc_salary_full.sample(20)\n",
    "#second let's take a sample of 3000\n",
    "sample_3000 = nyc_salary_full.sample(3000)\n",
    "\n",
    "#\"print\" them out\n",
    "print( np.mean(sample_20.column(\"Base.Salary\")) )\n",
    "print( np.mean(sample_3000.column(\"Base.Salary\")) )\n",
    "# which gets closer to the \"truth\" (population mean)?"
   ]
  },
  {
   "cell_type": "code",
   "execution_count": 9,
   "metadata": {},
   "outputs": [],
   "source": [
    "#####################################################################################\n",
    "# We can simulate the mean's distribution: i.e. the sample distribution of the mean.#\n",
    "\n",
    "# first we'll write a function that grabs a sample of size 2000 from our NYC salary population\n",
    "# and then calculates the mean\n",
    "def random_samp_mean():\n",
    "    return np.mean(nyc_salary_full.sample(2000).column('Base.Salary'))"
   ]
  },
  {
   "cell_type": "code",
   "execution_count": 10,
   "metadata": {},
   "outputs": [],
   "source": [
    "# next, we decide how many simulations we want, and we put those simulations into an array\n",
    "# the contents of which we can look at later\n",
    "\n",
    "# we will  have 600 simulations (takes a little while)\n",
    "nsims = 600\n",
    "\n",
    "our_means = make_array()\n",
    "\n",
    "for i in np.arange(nsims):\n",
    "    our_means = np.append(our_means, random_samp_mean())\n",
    "    \n"
   ]
  },
  {
   "cell_type": "code",
   "execution_count": 11,
   "metadata": {},
   "outputs": [],
   "source": [
    "# let's put all those means into a table\n",
    "simulated_means = Table().with_column('Sample Mean', our_means)"
   ]
  },
  {
   "cell_type": "code",
   "execution_count": 12,
   "metadata": {},
   "outputs": [
    {
     "data": {
      "image/png": "[encoded data removed]",
      "text/plain": [
       "<Figure size 432x288 with 1 Axes>"
      ]
     },
     "metadata": {
      "needs_background": "light"
     },
     "output_type": "display_data"
    }
   ],
   "source": [
    "# and now we can produce the sampling distribution\n",
    "simulated_means.hist()"
   ]
  },
  {
   "cell_type": "code",
   "execution_count": 13,
   "metadata": {},
   "outputs": [
    {
     "data": {
      "text/plain": [
       "61857.80213283334"
      ]
     },
     "execution_count": 13,
     "metadata": {},
     "output_type": "execute_result"
    }
   ],
   "source": [
    "# we can take the mean of these means, and see how close it comes to our population mean\n",
    "np.mean(simulated_means.column('Sample Mean'))"
   ]
  },
  {
   "cell_type": "code",
   "execution_count": 14,
   "metadata": {},
   "outputs": [
    {
     "data": {
      "image/png": "[encoded data removed]",
      "text/plain": [
       "<Figure size 432x288 with 1 Axes>"
      ]
     },
     "metadata": {
      "needs_background": "light"
     },
     "output_type": "display_data"
    }
   ],
   "source": [
    "##########################################\n",
    "# The Swain case as a simulation problem #\n",
    "\n",
    "# in the original example, the eligible population was 0.26 Black, 0.74 white, proportionally\n",
    "eligible_population = [0.26, 0.74]\n",
    "\n",
    "# we define *one* simulated count as follows:\n",
    "# this randomly generates 100 people according to the proportions of the eligible_population\n",
    "# (remember, there were 100 people on a jury panel)\n",
    "def one_simulated_count():\n",
    "    return (100 * sample_proportions(100, eligible_population)).item(0) \n",
    "\n",
    "# we need an array to record all our simulations\n",
    "counts = make_array()\n",
    "\n",
    "# and we need to choose a certain (large) number of simulations\n",
    "repetitions = 10000\n",
    "for i in np.arange(repetitions):\n",
    "    counts = np.append(counts, one_simulated_count())\n",
    "\n",
    "#now we need to plot the relevant histogram, along with the Swain observed data\n",
    "swain_observed = 8 #black men on the panel\n",
    "\n",
    "Table().with_column(\n",
    "    'Count in a Random Sample', counts\n",
    ").hist(bins = np.arange(5.5, 46.6, 1))\n",
    "plots.scatter(swain_observed, 0, color='red', s=200);"
   ]
  },
  {
   "cell_type": "code",
   "execution_count": 15,
   "metadata": {},
   "outputs": [
    {
     "data": {
      "image/png": "[encoded data removed]",
      "text/plain": [
       "<Figure size 432x288 with 1 Axes>"
      ]
     },
     "metadata": {
      "needs_background": "light"
     },
     "output_type": "display_data"
    }
   ],
   "source": [
    "#######################################################\n",
    "# do two sample hypothesis tests using the baby data  #\n",
    "\n",
    "#get the data and plot the two groups: smokers vs non-smokers\n",
    "births = Table.read_table('baby.csv')\n",
    "smoking_and_birthweight = births.select('Maternal.Smoker', 'Birth.Weight')\n",
    "smoking_and_birthweight.hist('Birth.Weight', group = 'Maternal.Smoker')"
   ]
  },
  {
   "cell_type": "code",
   "execution_count": 16,
   "metadata": {},
   "outputs": [
    {
     "data": {
      "text/html": [
       "<table border=\"1\" class=\"dataframe\">\n",
       "    <thead>\n",
       "        <tr>\n",
       "            <th>Maternal.Smoker</th> <th>Birth.Weight average</th>\n",
       "        </tr>\n",
       "    </thead>\n",
       "    <tbody>\n",
       "        <tr>\n",
       "            <td>False          </td> <td>123.085             </td>\n",
       "        </tr>\n",
       "        <tr>\n",
       "            <td>True           </td> <td>113.819             </td>\n",
       "        </tr>\n",
       "    </tbody>\n",
       "</table>"
      ],
      "text/plain": [
       "Maternal.Smoker | Birth.Weight average\n",
       "False           | 123.085\n",
       "True            | 113.819"
      ]
     },
     "execution_count": 16,
     "metadata": {},
     "output_type": "execute_result"
    }
   ],
   "source": [
    "# get the averages \n",
    "means_table = smoking_and_birthweight.group('Maternal.Smoker', np.average)\n",
    "means_table"
   ]
  },
  {
   "cell_type": "code",
   "execution_count": 17,
   "metadata": {},
   "outputs": [
    {
     "data": {
      "text/plain": [
       "-9.266142572024918"
      ]
     },
     "execution_count": 17,
     "metadata": {},
     "output_type": "execute_result"
    }
   ],
   "source": [
    "# obtain the observed diffeence between non-smokers (false) and smokers (true)\n",
    "means = means_table.column(1)\n",
    "observed_difference = means.item(1) - means.item(0)\n",
    "observed_difference # this is the mean of the True minus the false"
   ]
  },
  {
   "cell_type": "code",
   "execution_count": 18,
   "metadata": {},
   "outputs": [],
   "source": [
    "# let's write a generic function to take the difference in means between two columns\n",
    "def difference_of_means(table, label, group_label):\n",
    "    reduced = table.select(label, group_label)\n",
    "    means_table = reduced.group(group_label, np.average)\n",
    "    means = means_table.column(1)\n",
    "    return means.item(1) - means.item(0)\n"
   ]
  },
  {
   "cell_type": "code",
   "execution_count": 19,
   "metadata": {},
   "outputs": [],
   "source": [
    "# now we need a function to do permutation inference.\n",
    "# this will give the difference in means between two groups formed by randomizing labels\n",
    "#  This will produce the statistic under the \"null\" of no difference\n",
    "def one_simulated_difference(table, label, group_label):\n",
    "    shuffled_labels = table.sample(with_replacement = False\n",
    "                                                    ).column(group_label)\n",
    "    shuffled_table = table.select(label).with_column(\n",
    "        'Shuffled Label', shuffled_labels)\n",
    "    return difference_of_means(shuffled_table, label, 'Shuffled Label')   \n",
    " "
   ]
  },
  {
   "cell_type": "code",
   "execution_count": 20,
   "metadata": {},
   "outputs": [],
   "source": [
    "# create an array to take the results of differences \n",
    "differences = make_array()\n"
   ]
  },
  {
   "cell_type": "code",
   "execution_count": 21,
   "metadata": {},
   "outputs": [],
   "source": [
    "# do a large number of simulations, say 4000\n",
    "repetitions = 4000\n",
    "for i in np.arange(repetitions):\n",
    "    new_difference = one_simulated_difference(births, 'Birth.Weight', 'Maternal.Smoker')\n",
    "    differences = np.append(differences, new_difference)   "
   ]
  },
  {
   "cell_type": "code",
   "execution_count": 22,
   "metadata": {},
   "outputs": [
    {
     "data": {
      "text/plain": [
       "Text(0, 0.5, 'n cases')"
      ]
     },
     "execution_count": 22,
     "metadata": {},
     "output_type": "execute_result"
    },
    {
     "data": {
      "image/png": "[encoded data removed]",
      "text/plain": [
       "<Figure size 432x288 with 1 Axes>"
      ]
     },
     "metadata": {
      "needs_background": "light"
     },
     "output_type": "display_data"
    }
   ],
   "source": [
    "#  plot the outcome. Have the main histogram in darkblue, and put the observed difference on in red.\n",
    "# set the range for the histogram to be -10,4 with 25 bins\n",
    "plots.hist(differences, color=\"darkblue\",range=[-10, 4], bins=25)\n",
    "plots.scatter(observed_difference, 0, color='red', s=200);\n",
    "plots.xlabel('Difference Btwn Group Means')\n",
    "plots.ylabel('n cases')"
   ]
  },
  {
   "cell_type": "code",
   "execution_count": 23,
   "metadata": {},
   "outputs": [
    {
     "name": "stdout",
     "output_type": "stream",
     "text": [
      "(simulated) P value for mean_smokers <= mean_nonsmokers= 0.0\n",
      "(simulated) P value for mean_smokers > mean_nonsmokers= 1.0\n",
      "(simulated) P value for mean_smokers != mean_nonsmokers= 0.0\n"
     ]
    }
   ],
   "source": [
    "# let's calculate a p value\n",
    "\n",
    "# first, suppose our Alternative Hypothesis is that the mean of the smokers is lower \n",
    "# than that of the non-smokers.  In that case, we need the following expression:\n",
    "empiricalP_lessthan = np.count_nonzero(differences <= observed_difference) / repetitions\n",
    "print( \"(simulated) P value for mean_smokers <= mean_nonsmokers=\",  empiricalP_lessthan)\n",
    "# this is statistically significant at the 0.01 level\n",
    "\n",
    "#second, suppose our Alternative Hypoth is that the mean of the smokers is *higher* (>) than that of the smokers.  \n",
    "# In that case, we need the following expression:\n",
    "empiricalP_greaterthan = np.count_nonzero(differences > observed_difference) / repetitions\n",
    "print(\"(simulated) P value for mean_smokers > mean_nonsmokers=\", empiricalP_greaterthan)      \n",
    "# this is not statistically significant!\n",
    "\n",
    "# we can do 2 tailed test here, though we need to be careful.  First, we need the p-value that corresponds\n",
    "# to the *smaller* mass from the above.  That's clearly the first one (<=) since it is 0 (and thus smaller than 1).  \n",
    "# Then we need to double it.\n",
    "print( \"(simulated) P value for mean_smokers != mean_nonsmokers=\",  empiricalP_lessthan*2)\n",
    "\n",
    "#NB: this is equivalent to taking the bigger one and doing (1-1tail p value)*2 \n",
    "# which is: (1-empiricalP_greaterthan)*2 = 0 also\n",
    "\n"
   ]
  },
  {
   "cell_type": "code",
   "execution_count": null,
   "metadata": {},
   "outputs": [],
   "source": []
  },
  {
   "cell_type": "code",
   "execution_count": null,
   "metadata": {},
   "outputs": [],
   "source": []
  }
 ],
 "metadata": {
  "kernelspec": {
   "display_name": "Python 3",
   "language": "python",
   "name": "python3"
  },
  "language_info": {
   "codemirror_mode": {
    "name": "ipython",
    "version": 3
   },
   "file_extension": ".py",
   "mimetype": "text/x-python",
   "name": "python",
   "nbconvert_exporter": "python",
   "pygments_lexer": "ipython3",
   "version": "3.7.1"
  }
 },
 "nbformat": 4,
 "nbformat_minor": 2
}
