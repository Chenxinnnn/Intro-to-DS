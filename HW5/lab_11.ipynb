{
 "cells": [
  {
   "cell_type": "code",
   "execution_count": 1,
   "metadata": {},
   "outputs": [],
   "source": [
    "import numpy as np\n",
    "import pandas as pd\n",
    "import matplotlib.pyplot as plt\n",
    "import statsmodels.api as sm"
   ]
  },
  {
   "cell_type": "markdown",
   "metadata": {},
   "source": [
    "# I strongly encourage you to use Markdown for the homework\n",
    "### poorly formatted homeworks will lose points on hw 5, you've been warned\n",
    "\n",
    "# Also - How do we make a long line of code into two lines?"
   ]
  },
  {
   "cell_type": "code",
   "execution_count": 6,
   "metadata": {},
   "outputs": [
    {
     "name": "stdout",
     "output_type": "stream",
     "text": [
      "its actually quite easy, instead of this stretching on forever....................................................\n"
     ]
    }
   ],
   "source": [
    "print(\"its actually quite easy,\", \"instead of this stretching on forever....................................................\")"
   ]
  },
  {
   "cell_type": "code",
   "execution_count": 8,
   "metadata": {},
   "outputs": [
    {
     "name": "stdout",
     "output_type": "stream",
     "text": [
      "its actually quite easy, instead of this stretching on forever....................................................\n"
     ]
    }
   ],
   "source": [
    "print(\"its actually quite easy,\", \n",
    "\"instead of this stretching on forever....................................................\")"
   ]
  },
  {
   "cell_type": "code",
   "execution_count": 11,
   "metadata": {},
   "outputs": [
    {
     "name": "stdout",
     "output_type": "stream",
     "text": [
      "what\n",
      "a\n",
      "great\n",
      "list\n",
      "\n",
      "\n",
      "what\n",
      "a\n",
      "great\n",
      "list\n"
     ]
    }
   ],
   "source": [
    "this_list = [\"what\", \"a\", \"great\", \"list\"]\n",
    "\n",
    "for word in this_list:\n",
    "    print(word)\n",
    "\n",
    "print(\"\\n\") #this creates a space\n",
    "    \n",
    "for word in \\\n",
    "    this_list:\n",
    "    print(word)"
   ]
  },
  {
   "cell_type": "code",
   "execution_count": 12,
   "metadata": {},
   "outputs": [
    {
     "name": "stdout",
     "output_type": "stream",
     "text": [
      "hey\n",
      " now\n"
     ]
    }
   ],
   "source": [
    "print(\"hey\\n\", \"now\")"
   ]
  },
  {
   "cell_type": "markdown",
   "metadata": {},
   "source": [
    "#  Let's make some fake data!"
   ]
  },
  {
   "cell_type": "code",
   "execution_count": 34,
   "metadata": {},
   "outputs": [],
   "source": [
    "years = ['2001', '2002', '2003', '2004', '2005','2006']\n",
    "temp_us = [72, 73, 74, 75, 68, 69]\n",
    "temp_uk = [74, 73, 78, 79, 74, 76]\n",
    "humidity_us = [67, 87, 89, 76, 34, 68]\n",
    "df = pd.DataFrame({'years':years, 'temp_us':temp_us,'temp_uk':temp_uk, \"humidity_us\":humidity_us})"
   ]
  },
  {
   "cell_type": "code",
   "execution_count": 24,
   "metadata": {},
   "outputs": [
    {
     "data": {
      "text/html": [
       "<div>\n",
       "<style scoped>\n",
       "    .dataframe tbody tr th:only-of-type {\n",
       "        vertical-align: middle;\n",
       "    }\n",
       "\n",
       "    .dataframe tbody tr th {\n",
       "        vertical-align: top;\n",
       "    }\n",
       "\n",
       "    .dataframe thead th {\n",
       "        text-align: right;\n",
       "    }\n",
       "</style>\n",
       "<table border=\"1\" class=\"dataframe\">\n",
       "  <thead>\n",
       "    <tr style=\"text-align: right;\">\n",
       "      <th></th>\n",
       "      <th>years</th>\n",
       "      <th>temp_us</th>\n",
       "      <th>temp_uk</th>\n",
       "      <th>humidity_us</th>\n",
       "    </tr>\n",
       "  </thead>\n",
       "  <tbody>\n",
       "    <tr>\n",
       "      <th>0</th>\n",
       "      <td>2001</td>\n",
       "      <td>72</td>\n",
       "      <td>74</td>\n",
       "      <td>67</td>\n",
       "    </tr>\n",
       "    <tr>\n",
       "      <th>1</th>\n",
       "      <td>2002</td>\n",
       "      <td>73</td>\n",
       "      <td>73</td>\n",
       "      <td>87</td>\n",
       "    </tr>\n",
       "    <tr>\n",
       "      <th>2</th>\n",
       "      <td>2003</td>\n",
       "      <td>74</td>\n",
       "      <td>78</td>\n",
       "      <td>89</td>\n",
       "    </tr>\n",
       "    <tr>\n",
       "      <th>3</th>\n",
       "      <td>2004</td>\n",
       "      <td>75</td>\n",
       "      <td>79</td>\n",
       "      <td>76</td>\n",
       "    </tr>\n",
       "    <tr>\n",
       "      <th>4</th>\n",
       "      <td>2005</td>\n",
       "      <td>68</td>\n",
       "      <td>74</td>\n",
       "      <td>34</td>\n",
       "    </tr>\n",
       "    <tr>\n",
       "      <th>5</th>\n",
       "      <td>2006</td>\n",
       "      <td>69</td>\n",
       "      <td>76</td>\n",
       "      <td>68</td>\n",
       "    </tr>\n",
       "  </tbody>\n",
       "</table>\n",
       "</div>"
      ],
      "text/plain": [
       "  years  temp_us  temp_uk  humidity_us\n",
       "0  2001       72       74           67\n",
       "1  2002       73       73           87\n",
       "2  2003       74       78           89\n",
       "3  2004       75       79           76\n",
       "4  2005       68       74           34\n",
       "5  2006       69       76           68"
      ]
     },
     "execution_count": 24,
     "metadata": {},
     "output_type": "execute_result"
    }
   ],
   "source": [
    "df"
   ]
  },
  {
   "cell_type": "markdown",
   "metadata": {},
   "source": [
    "### Simple with Matplotlib"
   ]
  },
  {
   "cell_type": "code",
   "execution_count": 19,
   "metadata": {},
   "outputs": [
    {
     "data": {
      "text/plain": [
       "[<matplotlib.lines.Line2D at 0x1c1b8095f8>]"
      ]
     },
     "execution_count": 19,
     "metadata": {},
     "output_type": "execute_result"
    },
    {
     "data": {
      "image/png": "[encoded data removed]",
      "text/plain": [
       "<Figure size 432x288 with 1 Axes>"
      ]
     },
     "metadata": {
      "needs_background": "light"
     },
     "output_type": "display_data"
    }
   ],
   "source": [
    "plt.plot(df.years,df.temp_us, color = \"purple\")\n",
    "plt.plot(df.years,df.temp_uk)\n",
    "plt.plot(df.years,df.humidity_us)"
   ]
  },
  {
   "cell_type": "code",
   "execution_count": 26,
   "metadata": {},
   "outputs": [],
   "source": [
    "df.index = df.years"
   ]
  },
  {
   "cell_type": "code",
   "execution_count": 27,
   "metadata": {},
   "outputs": [
    {
     "data": {
      "text/html": [
       "<div>\n",
       "<style scoped>\n",
       "    .dataframe tbody tr th:only-of-type {\n",
       "        vertical-align: middle;\n",
       "    }\n",
       "\n",
       "    .dataframe tbody tr th {\n",
       "        vertical-align: top;\n",
       "    }\n",
       "\n",
       "    .dataframe thead th {\n",
       "        text-align: right;\n",
       "    }\n",
       "</style>\n",
       "<table border=\"1\" class=\"dataframe\">\n",
       "  <thead>\n",
       "    <tr style=\"text-align: right;\">\n",
       "      <th></th>\n",
       "      <th>years</th>\n",
       "      <th>temp_us</th>\n",
       "      <th>temp_uk</th>\n",
       "      <th>humidity_us</th>\n",
       "    </tr>\n",
       "    <tr>\n",
       "      <th>years</th>\n",
       "      <th></th>\n",
       "      <th></th>\n",
       "      <th></th>\n",
       "      <th></th>\n",
       "    </tr>\n",
       "  </thead>\n",
       "  <tbody>\n",
       "    <tr>\n",
       "      <th>2001</th>\n",
       "      <td>2001</td>\n",
       "      <td>72</td>\n",
       "      <td>74</td>\n",
       "      <td>67</td>\n",
       "    </tr>\n",
       "    <tr>\n",
       "      <th>2002</th>\n",
       "      <td>2002</td>\n",
       "      <td>73</td>\n",
       "      <td>73</td>\n",
       "      <td>87</td>\n",
       "    </tr>\n",
       "    <tr>\n",
       "      <th>2003</th>\n",
       "      <td>2003</td>\n",
       "      <td>74</td>\n",
       "      <td>78</td>\n",
       "      <td>89</td>\n",
       "    </tr>\n",
       "    <tr>\n",
       "      <th>2004</th>\n",
       "      <td>2004</td>\n",
       "      <td>75</td>\n",
       "      <td>79</td>\n",
       "      <td>76</td>\n",
       "    </tr>\n",
       "    <tr>\n",
       "      <th>2005</th>\n",
       "      <td>2005</td>\n",
       "      <td>68</td>\n",
       "      <td>74</td>\n",
       "      <td>34</td>\n",
       "    </tr>\n",
       "    <tr>\n",
       "      <th>2006</th>\n",
       "      <td>2006</td>\n",
       "      <td>69</td>\n",
       "      <td>76</td>\n",
       "      <td>68</td>\n",
       "    </tr>\n",
       "  </tbody>\n",
       "</table>\n",
       "</div>"
      ],
      "text/plain": [
       "      years  temp_us  temp_uk  humidity_us\n",
       "years                                     \n",
       "2001   2001       72       74           67\n",
       "2002   2002       73       73           87\n",
       "2003   2003       74       78           89\n",
       "2004   2004       75       79           76\n",
       "2005   2005       68       74           34\n",
       "2006   2006       69       76           68"
      ]
     },
     "execution_count": 27,
     "metadata": {},
     "output_type": "execute_result"
    }
   ],
   "source": [
    "df"
   ]
  },
  {
   "cell_type": "code",
   "execution_count": 28,
   "metadata": {},
   "outputs": [
    {
     "data": {
      "text/plain": [
       "<matplotlib.axes._subplots.AxesSubplot at 0x1c1ba2d630>"
      ]
     },
     "execution_count": 28,
     "metadata": {},
     "output_type": "execute_result"
    },
    {
     "data": {
      "image/png": "[encoded data removed]",
      "text/plain": [
       "<Figure size 432x288 with 1 Axes>"
      ]
     },
     "metadata": {
      "needs_background": "light"
     },
     "output_type": "display_data"
    }
   ],
   "source": [
    "df.plot()"
   ]
  },
  {
   "cell_type": "code",
   "execution_count": 29,
   "metadata": {},
   "outputs": [
    {
     "data": {
      "text/plain": [
       "<matplotlib.axes._subplots.AxesSubplot at 0x1c1baf3b70>"
      ]
     },
     "execution_count": 29,
     "metadata": {},
     "output_type": "execute_result"
    },
    {
     "data": {
      "image/png": "[encoded data removed]",
      "text/plain": [
       "<Figure size 432x288 with 1 Axes>"
      ]
     },
     "metadata": {
      "needs_background": "light"
     },
     "output_type": "display_data"
    }
   ],
   "source": [
    "df.temp_us.plot()"
   ]
  },
  {
   "cell_type": "code",
   "execution_count": 31,
   "metadata": {},
   "outputs": [
    {
     "data": {
      "text/plain": [
       "<matplotlib.axes._subplots.AxesSubplot at 0x1c1bcaa2b0>"
      ]
     },
     "execution_count": 31,
     "metadata": {},
     "output_type": "execute_result"
    },
    {
     "data": {
      "image/png": "[encoded data removed]",
      "text/plain": [
       "<Figure size 432x288 with 1 Axes>"
      ]
     },
     "metadata": {
      "needs_background": "light"
     },
     "output_type": "display_data"
    }
   ],
   "source": [
    "df.temp_uk.plot(color = \"red\")"
   ]
  },
  {
   "cell_type": "code",
   "execution_count": 32,
   "metadata": {},
   "outputs": [
    {
     "data": {
      "text/plain": [
       "<matplotlib.axes._subplots.AxesSubplot at 0x1c1bcaa278>"
      ]
     },
     "execution_count": 32,
     "metadata": {},
     "output_type": "execute_result"
    },
    {
     "data": {
      "image/png": "[encoded data removed]",
      "text/plain": [
       "<Figure size 432x288 with 1 Axes>"
      ]
     },
     "metadata": {
      "needs_background": "light"
     },
     "output_type": "display_data"
    }
   ],
   "source": [
    "df.temp_us.plot()\n",
    "df.temp_uk.plot(color = 'green')"
   ]
  },
  {
   "cell_type": "markdown",
   "metadata": {},
   "source": [
    "# Simple Regression!\n",
    "\n",
    "### Look for coefficient, P-values, confidence interval, $r^2$"
   ]
  },
  {
   "cell_type": "code",
   "execution_count": 35,
   "metadata": {},
   "outputs": [
    {
     "data": {
      "text/html": [
       "<div>\n",
       "<style scoped>\n",
       "    .dataframe tbody tr th:only-of-type {\n",
       "        vertical-align: middle;\n",
       "    }\n",
       "\n",
       "    .dataframe tbody tr th {\n",
       "        vertical-align: top;\n",
       "    }\n",
       "\n",
       "    .dataframe thead th {\n",
       "        text-align: right;\n",
       "    }\n",
       "</style>\n",
       "<table border=\"1\" class=\"dataframe\">\n",
       "  <thead>\n",
       "    <tr style=\"text-align: right;\">\n",
       "      <th></th>\n",
       "      <th>years</th>\n",
       "      <th>temp_us</th>\n",
       "      <th>temp_uk</th>\n",
       "      <th>humidity_us</th>\n",
       "    </tr>\n",
       "  </thead>\n",
       "  <tbody>\n",
       "    <tr>\n",
       "      <th>0</th>\n",
       "      <td>2001</td>\n",
       "      <td>72</td>\n",
       "      <td>74</td>\n",
       "      <td>67</td>\n",
       "    </tr>\n",
       "    <tr>\n",
       "      <th>1</th>\n",
       "      <td>2002</td>\n",
       "      <td>73</td>\n",
       "      <td>73</td>\n",
       "      <td>87</td>\n",
       "    </tr>\n",
       "    <tr>\n",
       "      <th>2</th>\n",
       "      <td>2003</td>\n",
       "      <td>74</td>\n",
       "      <td>78</td>\n",
       "      <td>89</td>\n",
       "    </tr>\n",
       "    <tr>\n",
       "      <th>3</th>\n",
       "      <td>2004</td>\n",
       "      <td>75</td>\n",
       "      <td>79</td>\n",
       "      <td>76</td>\n",
       "    </tr>\n",
       "    <tr>\n",
       "      <th>4</th>\n",
       "      <td>2005</td>\n",
       "      <td>68</td>\n",
       "      <td>74</td>\n",
       "      <td>34</td>\n",
       "    </tr>\n",
       "    <tr>\n",
       "      <th>5</th>\n",
       "      <td>2006</td>\n",
       "      <td>69</td>\n",
       "      <td>76</td>\n",
       "      <td>68</td>\n",
       "    </tr>\n",
       "  </tbody>\n",
       "</table>\n",
       "</div>"
      ],
      "text/plain": [
       "  years  temp_us  temp_uk  humidity_us\n",
       "0  2001       72       74           67\n",
       "1  2002       73       73           87\n",
       "2  2003       74       78           89\n",
       "3  2004       75       79           76\n",
       "4  2005       68       74           34\n",
       "5  2006       69       76           68"
      ]
     },
     "execution_count": 35,
     "metadata": {},
     "output_type": "execute_result"
    }
   ],
   "source": [
    "df"
   ]
  },
  {
   "cell_type": "code",
   "execution_count": 38,
   "metadata": {},
   "outputs": [
    {
     "name": "stderr",
     "output_type": "stream",
     "text": [
      "/Users/williamgodel/anaconda3/lib/python3.7/site-packages/numpy/core/fromnumeric.py:2389: FutureWarning: Method .ptp is deprecated and will be removed in a future version. Use numpy.ptp instead.\n",
      "  return ptp(axis=axis, out=out, **kwargs)\n"
     ]
    }
   ],
   "source": [
    "y = df.temp_us\n",
    "X = df[['temp_uk', 'humidity_us']]\n",
    "Xc = sm.add_constant(X)\n",
    "## fit OLS model with intercept on the variables\n"
   ]
  },
  {
   "cell_type": "code",
   "execution_count": 40,
   "metadata": {},
   "outputs": [
    {
     "name": "stdout",
     "output_type": "stream",
     "text": [
      "                            OLS Regression Results                            \n",
      "==============================================================================\n",
      "Dep. Variable:                temp_us   R-squared:                       0.712\n",
      "Model:                            OLS   Adj. R-squared:                  0.520\n",
      "Method:                 Least Squares   F-statistic:                     3.713\n",
      "Date:                Tue, 19 Nov 2019   Prob (F-statistic):              0.154\n",
      "Time:                        15:43:57   Log-Likelihood:                -10.379\n",
      "No. Observations:                   6   AIC:                             26.76\n",
      "Df Residuals:                       3   BIC:                             26.13\n",
      "Df Model:                           2                                         \n",
      "Covariance Type:            nonrobust                                         \n",
      "===============================================================================\n",
      "                  coef    std err          t      P>|t|      [0.025      0.975]\n",
      "-------------------------------------------------------------------------------\n",
      "const          40.5077     27.786      1.458      0.241     -47.919     128.934\n",
      "temp_uk         0.3228      0.380      0.850      0.458      -0.885       1.531\n",
      "humidity_us     0.0984      0.046      2.138      0.122      -0.048       0.245\n",
      "==============================================================================\n",
      "Omnibus:                          nan   Durbin-Watson:                   1.380\n",
      "Prob(Omnibus):                    nan   Jarque-Bera (JB):                1.070\n",
      "Skew:                          -1.034   Prob(JB):                        0.586\n",
      "Kurtosis:                       2.969   Cond. No.                     3.67e+03\n",
      "==============================================================================\n",
      "\n",
      "Warnings:\n",
      "[1] Standard Errors assume that the covariance matrix of the errors is correctly specified.\n",
      "[2] The condition number is large, 3.67e+03. This might indicate that there are\n",
      "strong multicollinearity or other numerical problems.\n"
     ]
    },
    {
     "name": "stderr",
     "output_type": "stream",
     "text": [
      "/Users/williamgodel/anaconda3/lib/python3.7/site-packages/statsmodels/stats/stattools.py:71: ValueWarning: omni_normtest is not valid with less than 8 observations; 6 samples were given.\n",
      "  \"samples were given.\" % int(n), ValueWarning)\n"
     ]
    }
   ],
   "source": [
    "\n",
    "est = sm.OLS(y, Xc).fit()\n",
    "print(est.summary())"
   ]
  },
  {
   "cell_type": "code",
   "execution_count": 39,
   "metadata": {},
   "outputs": [
    {
     "data": {
      "text/html": [
       "<div>\n",
       "<style scoped>\n",
       "    .dataframe tbody tr th:only-of-type {\n",
       "        vertical-align: middle;\n",
       "    }\n",
       "\n",
       "    .dataframe tbody tr th {\n",
       "        vertical-align: top;\n",
       "    }\n",
       "\n",
       "    .dataframe thead th {\n",
       "        text-align: right;\n",
       "    }\n",
       "</style>\n",
       "<table border=\"1\" class=\"dataframe\">\n",
       "  <thead>\n",
       "    <tr style=\"text-align: right;\">\n",
       "      <th></th>\n",
       "      <th>const</th>\n",
       "      <th>temp_uk</th>\n",
       "      <th>humidity_us</th>\n",
       "    </tr>\n",
       "  </thead>\n",
       "  <tbody>\n",
       "    <tr>\n",
       "      <th>0</th>\n",
       "      <td>1.0</td>\n",
       "      <td>74</td>\n",
       "      <td>67</td>\n",
       "    </tr>\n",
       "    <tr>\n",
       "      <th>1</th>\n",
       "      <td>1.0</td>\n",
       "      <td>73</td>\n",
       "      <td>87</td>\n",
       "    </tr>\n",
       "    <tr>\n",
       "      <th>2</th>\n",
       "      <td>1.0</td>\n",
       "      <td>78</td>\n",
       "      <td>89</td>\n",
       "    </tr>\n",
       "    <tr>\n",
       "      <th>3</th>\n",
       "      <td>1.0</td>\n",
       "      <td>79</td>\n",
       "      <td>76</td>\n",
       "    </tr>\n",
       "    <tr>\n",
       "      <th>4</th>\n",
       "      <td>1.0</td>\n",
       "      <td>74</td>\n",
       "      <td>34</td>\n",
       "    </tr>\n",
       "    <tr>\n",
       "      <th>5</th>\n",
       "      <td>1.0</td>\n",
       "      <td>76</td>\n",
       "      <td>68</td>\n",
       "    </tr>\n",
       "  </tbody>\n",
       "</table>\n",
       "</div>"
      ],
      "text/plain": [
       "   const  temp_uk  humidity_us\n",
       "0    1.0       74           67\n",
       "1    1.0       73           87\n",
       "2    1.0       78           89\n",
       "3    1.0       79           76\n",
       "4    1.0       74           34\n",
       "5    1.0       76           68"
      ]
     },
     "execution_count": 39,
     "metadata": {},
     "output_type": "execute_result"
    }
   ],
   "source": [
    "Xc"
   ]
  },
  {
   "cell_type": "markdown",
   "metadata": {},
   "source": [
    "### What is the Regression Equation?"
   ]
  },
  {
   "cell_type": "markdown",
   "metadata": {},
   "source": [
    "### $temp\\_us_{i} = \\alpha + \\beta1*temp\\_uk_i + \\beta2*humidity\\_us_i + \\epsilon_i $ "
   ]
  },
  {
   "cell_type": "code",
   "execution_count": 41,
   "metadata": {},
   "outputs": [
    {
     "data": {
      "text/html": [
       "<div>\n",
       "<style scoped>\n",
       "    .dataframe tbody tr th:only-of-type {\n",
       "        vertical-align: middle;\n",
       "    }\n",
       "\n",
       "    .dataframe tbody tr th {\n",
       "        vertical-align: top;\n",
       "    }\n",
       "\n",
       "    .dataframe thead th {\n",
       "        text-align: right;\n",
       "    }\n",
       "</style>\n",
       "<table border=\"1\" class=\"dataframe\">\n",
       "  <thead>\n",
       "    <tr style=\"text-align: right;\">\n",
       "      <th></th>\n",
       "      <th>years</th>\n",
       "      <th>temp_us</th>\n",
       "      <th>temp_uk</th>\n",
       "      <th>humidity_us</th>\n",
       "    </tr>\n",
       "  </thead>\n",
       "  <tbody>\n",
       "    <tr>\n",
       "      <th>0</th>\n",
       "      <td>2001</td>\n",
       "      <td>72</td>\n",
       "      <td>74</td>\n",
       "      <td>67</td>\n",
       "    </tr>\n",
       "    <tr>\n",
       "      <th>1</th>\n",
       "      <td>2002</td>\n",
       "      <td>73</td>\n",
       "      <td>73</td>\n",
       "      <td>87</td>\n",
       "    </tr>\n",
       "    <tr>\n",
       "      <th>2</th>\n",
       "      <td>2003</td>\n",
       "      <td>74</td>\n",
       "      <td>78</td>\n",
       "      <td>89</td>\n",
       "    </tr>\n",
       "    <tr>\n",
       "      <th>3</th>\n",
       "      <td>2004</td>\n",
       "      <td>75</td>\n",
       "      <td>79</td>\n",
       "      <td>76</td>\n",
       "    </tr>\n",
       "    <tr>\n",
       "      <th>4</th>\n",
       "      <td>2005</td>\n",
       "      <td>68</td>\n",
       "      <td>74</td>\n",
       "      <td>34</td>\n",
       "    </tr>\n",
       "    <tr>\n",
       "      <th>5</th>\n",
       "      <td>2006</td>\n",
       "      <td>69</td>\n",
       "      <td>76</td>\n",
       "      <td>68</td>\n",
       "    </tr>\n",
       "  </tbody>\n",
       "</table>\n",
       "</div>"
      ],
      "text/plain": [
       "  years  temp_us  temp_uk  humidity_us\n",
       "0  2001       72       74           67\n",
       "1  2002       73       73           87\n",
       "2  2003       74       78           89\n",
       "3  2004       75       79           76\n",
       "4  2005       68       74           34\n",
       "5  2006       69       76           68"
      ]
     },
     "execution_count": 41,
     "metadata": {},
     "output_type": "execute_result"
    }
   ],
   "source": [
    "df"
   ]
  },
  {
   "cell_type": "markdown",
   "metadata": {},
   "source": [
    "### What are my residuals?\n",
    "### Well predictions are:"
   ]
  },
  {
   "cell_type": "code",
   "execution_count": 43,
   "metadata": {},
   "outputs": [
    {
     "data": {
      "text/plain": [
       "0    70.983838\n",
       "1    72.628865\n",
       "2    74.439433\n",
       "3    73.483130\n",
       "4    67.736992\n",
       "5    71.727743\n",
       "dtype: float64"
      ]
     },
     "execution_count": 43,
     "metadata": {},
     "output_type": "execute_result"
    }
   ],
   "source": [
    "est.predict(Xc)"
   ]
  },
  {
   "cell_type": "code",
   "execution_count": null,
   "metadata": {},
   "outputs": [],
   "source": [
    "df"
   ]
  },
  {
   "cell_type": "markdown",
   "metadata": {},
   "source": [
    "### So residuals are:"
   ]
  },
  {
   "cell_type": "code",
   "execution_count": 44,
   "metadata": {},
   "outputs": [],
   "source": [
    "residuals = est.predict(Xc) - y"
   ]
  },
  {
   "cell_type": "code",
   "execution_count": 45,
   "metadata": {},
   "outputs": [
    {
     "data": {
      "text/plain": [
       "0   -1.016162\n",
       "1   -0.371135\n",
       "2    0.439433\n",
       "3   -1.516870\n",
       "4   -0.263008\n",
       "5    2.727743\n",
       "dtype: float64"
      ]
     },
     "execution_count": 45,
     "metadata": {},
     "output_type": "execute_result"
    }
   ],
   "source": [
    "residuals"
   ]
  },
  {
   "cell_type": "code",
   "execution_count": 48,
   "metadata": {},
   "outputs": [
    {
     "data": {
      "text/plain": [
       "[<matplotlib.lines.Line2D at 0x1c1c6ede48>]"
      ]
     },
     "execution_count": 48,
     "metadata": {},
     "output_type": "execute_result"
    },
    {
     "data": {
      "image/png": "[encoded data removed]",
      "text/plain": [
       "<Figure size 432x288 with 1 Axes>"
      ]
     },
     "metadata": {
      "needs_background": "light"
     },
     "output_type": "display_data"
    }
   ],
   "source": [
    "plt.scatter(df.years,residuals.round())\n",
    "plt.plot(df.years,len(df.years)*[0], color = 'orange') #to add a line"
   ]
  },
  {
   "cell_type": "code",
   "execution_count": 49,
   "metadata": {},
   "outputs": [
    {
     "data": {
      "text/plain": [
       "[0, 0, 0, 0, 0, 0]"
      ]
     },
     "execution_count": 49,
     "metadata": {},
     "output_type": "execute_result"
    }
   ],
   "source": [
    "len(df.years)*[0]"
   ]
  },
  {
   "cell_type": "markdown",
   "metadata": {},
   "source": [
    "# Final Review!\n",
    "# Confidence Intervals!\n",
    "\n",
    "\n",
    "### Let's simulate some data"
   ]
  },
  {
   "cell_type": "code",
   "execution_count": 50,
   "metadata": {},
   "outputs": [],
   "source": [
    "population = np.random.normal(1,size = 1000)"
   ]
  },
  {
   "cell_type": "code",
   "execution_count": 51,
   "metadata": {},
   "outputs": [
    {
     "data": {
      "text/plain": [
       "array([-3.88414271e-01,  1.36706324e-01, -6.57805000e-01,  1.24774015e+00,\n",
       "        1.89311775e+00,  1.53979959e+00,  2.08510543e+00,  1.04397278e+00,\n",
       "        2.26334897e+00,  1.97379742e+00, -1.14551660e+00, -1.40970267e-02,\n",
       "       -3.95619553e-03,  1.80963514e+00,  3.24422371e-01,  9.69007151e-01,\n",
       "       -6.85119006e-01,  7.53485263e-01,  3.19277260e-01,  3.68868888e-03,\n",
       "        1.56706944e+00, -6.27858223e-02,  1.86429479e+00,  1.30572739e+00,\n",
       "        6.20331321e-01,  1.31482944e+00, -6.90670107e-01,  1.70926249e+00,\n",
       "        2.68782813e+00,  1.10730762e+00,  4.81370163e-01,  1.03898648e+00,\n",
       "        1.50867682e+00,  1.00380515e+00,  1.21315237e+00,  3.09406081e+00,\n",
       "        7.88245046e-01, -8.46410603e-01,  1.11944406e+00,  1.23676919e+00,\n",
       "        2.74167243e+00,  8.42776831e-01,  4.82669421e-01,  3.87384507e-01,\n",
       "       -9.74419595e-01, -6.06730147e-01, -2.67738064e-01,  3.03716481e-01,\n",
       "        2.25233559e+00, -5.11853522e-01,  4.99611542e-01,  2.09581811e+00,\n",
       "        1.32354960e+00,  2.32159003e+00,  2.33504982e-01,  1.14042657e+00,\n",
       "        1.54663515e-01,  2.47506550e-01,  8.08140407e-01,  7.16410913e-01,\n",
       "        2.27930802e+00,  9.74904501e-01,  1.24399509e+00,  2.27155908e+00,\n",
       "        7.02665435e-01,  7.79265104e-01,  1.09177712e+00,  1.01460369e+00,\n",
       "        7.18194029e-01,  1.46183431e+00,  1.16779503e+00,  1.73795101e+00,\n",
       "        2.07222617e-02,  1.26254308e+00,  1.78473783e+00,  1.97399947e-01,\n",
       "        1.56730549e+00,  8.17286582e-01,  1.91042647e+00,  1.06341263e+00,\n",
       "        7.60759893e-01,  1.25297083e+00,  2.32365868e+00,  4.61670828e-01,\n",
       "        9.70250724e-01,  1.45896166e+00,  6.47434781e-01, -4.91668539e-01,\n",
       "       -9.63461160e-01,  1.18842499e+00,  6.84066437e-01,  8.30919657e-03,\n",
       "        1.96633520e+00,  1.71093513e+00,  2.83399040e-01,  5.05989451e-01,\n",
       "        1.54671990e+00,  2.16696843e+00,  9.58117986e-01,  2.15620180e-01,\n",
       "        2.65340459e+00,  1.04885532e+00,  5.54617087e-01,  2.39825057e+00,\n",
       "        9.14038912e-01, -1.13783275e+00,  9.50728658e-02,  2.38884942e+00,\n",
       "        1.08205143e+00,  8.54550134e-01,  3.92028983e-01,  1.75204683e+00,\n",
       "        1.40178071e+00,  1.63279154e+00,  3.82865156e+00,  1.11870270e+00,\n",
       "       -6.39984279e-01,  2.40084754e+00,  6.67669979e-01, -5.75030520e-02,\n",
       "        8.08239367e-01,  2.86762991e+00,  6.05870096e-01,  3.13044833e-01,\n",
       "       -9.70509753e-01,  2.58821594e+00, -9.08648596e-01,  1.34547803e+00,\n",
       "        1.31500634e+00, -1.46856203e+00,  1.32721374e+00,  4.48113124e-01,\n",
       "        2.15482897e+00, -1.54063936e-01,  1.09528899e-01,  2.15721079e+00,\n",
       "        3.85909496e-01,  4.08815942e-01,  1.00009451e+00, -1.94978894e-01,\n",
       "        7.73154587e-01, -6.09073672e-01,  9.34210659e-01, -6.96899875e-02,\n",
       "        1.81775369e+00,  1.10244817e+00,  1.89866591e+00,  3.12375526e+00,\n",
       "       -1.24922574e-01,  2.01525764e+00,  2.95303923e+00,  2.86804718e-01,\n",
       "       -2.30483539e-01,  7.99526369e-01,  5.87338581e-01, -3.27643223e-01,\n",
       "        1.82758190e+00,  1.50124191e+00,  7.06871895e-01,  1.49533995e-01,\n",
       "        1.01927407e+00,  1.82916241e+00,  2.52263478e+00,  1.26272042e+00,\n",
       "        5.09626129e-01,  8.68095760e-01,  1.54134922e+00, -5.60540287e-02,\n",
       "       -1.41605951e+00,  2.27299083e+00,  9.68648591e-01,  9.65401297e-01,\n",
       "        1.99757152e+00,  1.77505482e+00,  9.65135391e-01,  1.13828183e+00,\n",
       "        4.07954418e-01,  9.70651392e-01, -6.41729177e-01,  1.20433940e+00,\n",
       "        8.94561107e-01,  1.02504203e+00,  1.70114904e+00,  1.60979862e+00,\n",
       "        3.12263456e+00,  5.38663184e-01,  1.48561017e-02,  3.34657961e-01,\n",
       "        2.52948819e+00,  1.34282354e+00,  1.75674211e+00,  3.08636410e+00,\n",
       "       -5.51476143e-01,  1.14443773e+00,  1.54090586e-01,  1.53870605e+00,\n",
       "       -2.78065286e-01,  1.24374049e+00,  1.15235476e+00,  1.01946688e+00,\n",
       "        1.17485831e+00,  5.29980064e-01,  1.92324718e+00,  1.25792992e+00,\n",
       "       -2.16188114e-01,  1.90733305e-01,  6.46616271e-01,  2.47481429e+00,\n",
       "        6.01306633e-01, -3.96728830e-01,  1.25366882e+00,  1.18592357e+00,\n",
       "        1.36752426e+00,  9.10035588e-01,  3.38035594e+00,  8.43373968e-01,\n",
       "        1.31363966e+00, -4.36899130e-01,  9.76672883e-01,  1.50318315e+00,\n",
       "        8.44956227e-01,  1.56053318e+00,  2.63220898e+00,  1.40012509e-01,\n",
       "        2.62757841e-01,  1.68910818e+00,  8.00067954e-01,  6.18536307e-01,\n",
       "        6.75125941e-01,  2.39036598e+00,  9.62256233e-01,  7.92099234e-01,\n",
       "        9.77379081e-01,  1.53433170e-01,  1.21334372e+00,  5.49056460e-01,\n",
       "       -1.84151855e-01,  1.73807663e+00,  1.08636924e+00,  8.08607310e-01,\n",
       "        1.03264422e-02,  1.56154744e+00,  7.67868869e-01,  2.05483612e+00,\n",
       "        3.23327083e+00,  1.08032049e+00,  2.23583118e+00,  9.83207746e-01,\n",
       "        8.00109599e-01,  1.67075431e+00, -6.98644667e-01,  1.68055084e+00,\n",
       "        1.62603479e-01, -8.79691580e-02,  1.11237327e+00,  1.77398717e-01,\n",
       "       -1.04067862e+00,  2.16856447e+00,  1.81396677e+00,  1.60380705e+00,\n",
       "        1.36957727e+00,  1.71302346e+00,  1.70168040e+00,  1.14295302e+00,\n",
       "        8.30857346e-01,  2.60788279e+00,  4.40297127e-01, -1.12203533e-01,\n",
       "        2.29285386e+00,  9.95651536e-01,  7.22986785e-01,  1.92558822e+00,\n",
       "        2.28132541e+00,  1.86813826e+00,  1.94392607e+00,  4.02036033e-01,\n",
       "        3.62974765e-01, -2.01157397e-01,  1.72311004e+00,  1.43979278e-01,\n",
       "        1.08297134e-01,  9.74682271e-01,  8.35141233e-01,  1.17096019e+00,\n",
       "        2.45390777e-01,  1.91500067e+00,  9.53447900e-01,  2.01027166e+00,\n",
       "       -1.55108716e-01, -1.04398185e+00,  3.42460511e-01,  1.27157830e-01,\n",
       "        1.08255174e+00, -1.53948497e+00,  2.93186886e+00,  2.32552506e+00,\n",
       "       -5.16057681e-02,  3.11617765e-01,  4.84087747e-01, -1.74243955e-01,\n",
       "        7.75455510e-01,  1.00904192e+00,  9.06129482e-01,  1.75172892e+00,\n",
       "        1.08828474e+00,  2.62424149e-01,  1.37389686e+00,  7.71335872e-01,\n",
       "        1.96871495e+00,  8.71199272e-01,  2.32321011e+00,  2.71580680e-01,\n",
       "        1.31715565e+00,  2.52226441e+00,  2.94461965e-01,  3.15568111e-01,\n",
       "       -4.10787587e-02,  8.68777815e-01,  1.28922144e+00,  5.39598445e-01,\n",
       "        1.71756371e+00,  3.15482204e-01,  7.25466595e-01, -7.10312837e-02,\n",
       "        8.31608183e-01,  2.76357546e+00,  1.01624764e+00,  4.73471978e-01,\n",
       "        1.05194471e+00,  7.39970705e-01,  9.84070622e-01,  2.00341984e+00,\n",
       "        3.08415506e-01, -5.69240963e-02,  1.84858327e+00,  1.75131752e+00,\n",
       "        1.06055925e+00, -5.59883088e-01,  4.94841695e-02,  7.19529450e-01,\n",
       "        2.20691082e-02,  8.89578037e-01,  1.11655369e+00,  1.44640706e+00,\n",
       "       -5.44512271e-01, -1.36882420e+00,  1.36151440e+00,  3.66611411e-01,\n",
       "        2.34111309e+00,  8.96317971e-01,  5.15444506e-01,  1.71753567e-01,\n",
       "        3.18370341e+00,  1.81068877e+00,  2.86290432e+00, -2.25599258e-01,\n",
       "        1.29682206e+00,  2.15548668e-01,  1.11955758e+00,  1.37047958e+00,\n",
       "        2.97222243e-01,  2.44300371e-01,  5.21055570e-01,  1.63219106e+00,\n",
       "        1.39550986e+00,  2.00214951e+00, -2.95567537e-01,  1.41173678e+00,\n",
       "        1.24573670e+00, -2.40087834e-01,  1.55745159e-01,  1.16062718e+00,\n",
       "        1.42162640e+00,  9.40327309e-01,  1.44996226e+00, -1.73264789e+00,\n",
       "        4.56154938e-01,  1.24712267e+00, -3.21527419e-02,  6.35721354e-01,\n",
       "        2.32904217e+00,  5.65801516e-01, -1.70919720e+00,  4.94161841e-02,\n",
       "       -2.25315937e-01,  9.66087254e-01,  3.04652633e+00, -2.09262950e+00,\n",
       "        1.56321753e-02, -1.07864247e+00,  9.82668080e-01,  2.59574015e+00,\n",
       "        1.90756894e+00,  2.72361832e+00, -1.11301708e-01, -5.06322715e-01,\n",
       "        1.30727730e+00,  1.67383753e+00,  5.29403576e-01,  3.12611726e-01,\n",
       "        3.31989546e+00,  2.91394492e+00,  1.86137364e+00,  8.18326056e-01,\n",
       "        7.62689039e-01,  7.10149937e-01, -8.28742030e-01, -1.03271199e+00,\n",
       "        7.85544792e-01,  1.24468904e-01, -3.25236723e-01,  6.41412756e-01,\n",
       "        1.92309532e+00,  2.00560497e+00,  3.22521056e-01,  1.31602915e+00,\n",
       "       -1.06539349e-01,  3.20663395e-01,  1.02047119e+00, -1.55942286e-01,\n",
       "        2.75601843e+00,  1.84578322e+00,  1.09340147e+00,  1.19485874e+00,\n",
       "        8.16485309e-01, -3.89298917e-01,  1.09032700e+00,  2.59009160e+00,\n",
       "        5.81167403e-01,  2.31205860e+00,  4.43508124e-01,  1.64889915e+00,\n",
       "       -1.04886988e+00,  3.43542292e-01,  1.15291583e+00,  6.03785461e-01,\n",
       "        1.82913853e+00,  1.98446607e+00,  1.50436746e+00,  2.24728418e+00,\n",
       "        1.69474621e+00,  2.79302432e-01, -1.34002695e-01,  6.71106339e-01,\n",
       "        1.21336364e+00,  2.40375654e+00,  1.85706476e+00,  1.71806345e-01,\n",
       "        1.77883437e+00,  1.48222960e+00,  1.22196692e+00, -4.78276620e-01,\n",
       "        1.45053094e+00,  8.78395961e-01,  2.60620988e+00, -8.93694479e-01,\n",
       "        7.60760527e-01,  1.73410338e-02,  7.97981427e-01,  7.04097222e-02,\n",
       "        1.57385404e+00,  4.93778665e-01,  2.05797525e+00, -5.10273860e-01,\n",
       "        2.00584718e+00, -2.49035199e-02, -3.92672593e-01,  1.87692353e+00,\n",
       "        3.06931583e+00,  1.58270670e+00,  5.06579320e-01, -7.21522176e-01,\n",
       "        1.30423565e+00, -8.25087085e-02,  4.18655491e-01,  1.03107112e+00,\n",
       "        2.80409646e+00,  1.56047456e+00,  1.22906261e+00,  1.92438257e+00,\n",
       "        2.41995780e+00,  2.21322041e+00,  1.14247993e+00,  3.20893964e+00,\n",
       "        3.17454882e-01,  4.17739266e-01,  1.17759049e+00,  2.02125109e+00,\n",
       "        4.01819613e-01,  7.70575825e-01,  6.19040623e-01,  4.29023160e-01,\n",
       "        1.34738756e+00, -6.93824387e-02,  1.26947456e+00,  9.11547283e-01,\n",
       "        9.47086148e-01,  1.33472620e+00,  3.10372994e+00,  1.84164345e+00,\n",
       "        7.05465889e-01,  1.06265829e+00,  3.26366253e-01,  1.09812156e+00,\n",
       "        2.17426488e+00,  1.66008041e-01,  1.14219639e+00, -1.10061974e+00,\n",
       "        5.97287068e-01,  5.98106459e-01,  9.43922970e-01,  2.27712631e+00,\n",
       "        1.09015581e+00,  2.07611787e+00,  2.12234292e+00,  1.24089465e+00,\n",
       "        1.13365042e+00,  2.14755593e+00,  1.52799146e+00,  2.63469213e+00,\n",
       "        3.21321142e-01,  1.66993009e+00, -3.42442928e-01,  1.76283007e-01,\n",
       "        1.88001175e-01,  2.42241207e+00,  1.52539240e+00, -8.49554162e-01,\n",
       "        1.55440435e+00,  2.99379781e+00,  1.53577274e+00,  1.42077839e+00,\n",
       "        1.01629362e+00,  2.28163652e-01,  5.51646313e-01,  3.52850672e-01,\n",
       "        1.76367236e+00,  3.26287670e-01,  1.09767592e+00,  5.14621640e-01,\n",
       "        1.52474018e+00,  1.88938415e-01,  3.36085270e-01,  1.07545875e+00,\n",
       "        3.43840559e-01,  1.18602769e+00, -9.45128176e-02, -7.03134442e-01,\n",
       "       -1.78229964e-01,  1.49492676e+00,  1.58768375e+00,  8.61108213e-01,\n",
       "       -1.18910773e-01,  8.06894312e-01,  2.21839179e-02,  5.50941938e-01,\n",
       "        6.08186057e-01, -2.08953921e-01,  1.25941813e+00,  1.65341177e+00,\n",
       "        9.98066898e-01,  9.44058675e-01,  3.41506917e+00,  1.76057641e+00,\n",
       "        1.58365633e+00, -6.28769471e-01,  8.74130270e-01,  1.66272199e+00,\n",
       "        7.22843160e-01,  4.38842506e-01,  2.68204619e+00,  1.77082476e+00,\n",
       "        1.47262673e+00,  3.61078878e-01, -6.90789440e-01,  1.95114061e+00,\n",
       "        2.45397668e+00,  5.47139664e-01,  1.00929270e+00,  9.07761671e-01,\n",
       "        1.41740685e+00,  8.87667133e-01,  6.55218217e-01,  9.15046951e-01,\n",
       "        2.96767552e-01, -3.00737581e-01,  2.69745762e+00, -3.70903813e-01,\n",
       "        8.23535500e-01,  8.76450950e-01,  6.72039793e-01,  1.11377606e+00,\n",
       "        1.69592956e+00,  1.56516519e+00,  1.08406680e+00,  1.04363915e+00,\n",
       "        8.92755563e-01,  9.44828836e-01,  6.99100034e-01,  6.84339128e-01,\n",
       "        1.08943049e+00,  6.02172034e-01,  1.48978899e+00,  1.26114748e+00,\n",
       "        1.55589521e+00,  2.32550716e+00, -1.29984044e+00,  1.41549611e+00,\n",
       "        2.81046197e+00,  3.98818861e-01,  1.05657518e+00, -4.42354207e-01,\n",
       "       -3.41440994e-01,  6.27458299e-01,  1.01664799e+00,  2.61695444e-01,\n",
       "        1.24952069e+00,  2.24780781e+00,  8.43388970e-01,  1.48870316e+00,\n",
       "       -3.70609731e-01,  1.66827548e+00,  7.47286547e-01,  1.35903434e+00,\n",
       "        1.66587416e+00,  2.15750665e+00,  2.83114357e+00,  3.33339862e-01,\n",
       "       -6.64765523e-03,  2.10312059e+00,  1.69900920e+00,  1.82131600e+00,\n",
       "        1.32285803e+00,  6.69134854e-02,  1.00649510e+00,  1.85973787e+00,\n",
       "        1.38521900e+00,  1.32487219e+00,  1.26454773e+00,  3.07831218e-01,\n",
       "        1.00820531e+00,  1.64370010e+00,  1.25124015e+00,  1.05823986e+00,\n",
       "       -9.74514115e-01, -8.52629526e-01,  1.10485046e+00,  1.25213124e+00,\n",
       "        2.06469280e+00,  5.32402060e-01, -6.00402664e-01,  7.65419942e-01,\n",
       "        1.05762270e+00,  6.80704434e-01, -1.07892957e+00,  2.14955514e+00,\n",
       "        7.63133607e-01,  2.46176340e+00,  6.62482955e-01,  2.79510959e+00,\n",
       "        8.10477724e-01,  1.76834311e+00, -3.16478480e-01,  1.61672472e+00,\n",
       "        7.48937217e-01,  2.56779028e+00,  1.82873347e+00,  6.38460958e-01,\n",
       "        1.65652261e+00,  5.85825436e-01,  1.40548438e+00,  2.25092069e+00,\n",
       "        1.25591283e+00, -6.60582795e-01, -1.89436969e-02,  1.74901224e-01,\n",
       "        1.08208231e+00,  1.38174378e+00,  8.01702507e-01,  8.21371635e-01,\n",
       "        3.18954684e-01,  5.66164583e-01,  1.33578203e+00,  2.23901452e+00,\n",
       "       -1.65558940e-01,  1.86765639e+00,  3.03625791e+00,  1.16632703e+00,\n",
       "        3.36126322e+00,  2.35694135e+00,  3.23681182e-02,  9.46813143e-01,\n",
       "        1.29295674e+00,  1.42237756e+00, -5.48796526e-02, -1.58449019e+00,\n",
       "       -5.21736806e-01,  7.94567570e-01,  1.09438624e+00,  1.44500666e+00,\n",
       "        7.96553894e-01,  3.92199992e-01,  3.07223593e-01,  2.85369007e-01,\n",
       "        6.78147229e-01,  2.27167877e+00, -1.95165662e-02,  1.72352362e+00,\n",
       "        1.01288122e+00,  1.61684066e+00,  2.53606203e+00,  2.11637282e+00,\n",
       "       -1.62358117e-02, -4.52071781e-02, -3.56849871e-03,  1.79329573e-01,\n",
       "        1.81526754e+00,  2.99907283e+00, -2.18913897e-02, -3.46336048e-02,\n",
       "        1.72744483e+00, -3.39725143e-01,  7.00247478e-01,  1.52136931e+00,\n",
       "        2.20424170e+00,  2.78539790e+00,  4.59576447e-01,  1.43646877e-01,\n",
       "       -1.05986675e+00,  1.96435153e+00,  8.16159973e-01,  4.59718013e-01,\n",
       "        6.70859500e-01,  1.20377250e+00,  1.67185619e+00, -1.30851501e+00,\n",
       "        7.31969140e-01,  1.70581491e+00,  3.84827145e-01,  4.46972617e-01,\n",
       "        2.62352234e-01, -2.74829009e-01,  2.56564634e+00,  1.39964611e+00,\n",
       "        6.43915443e-01,  3.69699794e-01,  2.00492025e+00, -5.21508205e-01,\n",
       "        2.05482768e+00,  5.42316024e-01, -3.73584978e-01,  1.67166465e+00,\n",
       "        2.75439570e+00,  1.74714907e+00,  1.23659940e+00,  5.33757654e-01,\n",
       "        1.83535356e+00, -5.30617673e-01,  7.47443208e-01,  2.28224128e+00,\n",
       "        1.71386542e+00, -3.24788196e-01,  1.94360525e+00,  1.45037468e+00,\n",
       "        1.26009326e+00,  2.14243756e-01,  1.28757040e+00,  8.36465384e-01,\n",
       "        1.30508417e+00,  6.89524350e-01,  1.16903130e+00,  1.79285640e+00,\n",
       "        1.77867088e+00,  9.13821520e-02,  1.72710467e+00,  2.87181153e+00,\n",
       "        9.01673137e-01,  2.20865038e+00, -2.82444651e-02, -3.24042519e-01,\n",
       "        3.79298308e+00, -5.12515311e-01,  5.20096343e-01,  1.85026848e+00,\n",
       "        1.23398085e+00,  4.00407305e-01,  6.85186949e-01,  4.47725506e-01,\n",
       "        5.87812523e-01,  5.55653187e-01,  2.89468823e+00,  1.21831956e-01,\n",
       "       -4.58647037e-01,  1.23411375e+00,  1.61139778e+00,  1.63367099e+00,\n",
       "        8.04404737e-01,  1.56929224e+00,  1.77565098e+00,  2.62493505e+00,\n",
       "        1.83562879e+00,  2.85739921e-01,  2.42532388e+00,  3.07422236e-01,\n",
       "        1.08992580e+00,  5.37735060e-01, -1.16319856e-01,  2.32203619e+00,\n",
       "        1.87448900e+00,  1.89272061e+00,  2.67171294e+00,  5.34343178e-01,\n",
       "        1.08589865e+00,  2.48933209e-01,  1.25816421e+00,  1.72450544e+00,\n",
       "        9.38163690e-01,  6.98057336e-01,  1.78305556e+00,  1.11438722e-01,\n",
       "        2.45985787e+00,  1.74033390e+00,  5.73633883e-02, -1.15831956e+00,\n",
       "        1.51124663e+00,  2.08266841e+00,  2.74622770e+00,  2.27889913e+00,\n",
       "        2.64328709e+00, -3.51519931e-01,  9.47855395e-01, -1.67758331e-01,\n",
       "        9.00468268e-01, -3.36094579e-01, -6.43109474e-01,  2.79901549e-01,\n",
       "        3.04056004e+00,  3.79406340e-01, -2.85089010e-01,  1.59456260e+00,\n",
       "        2.14415802e-01,  1.51387878e+00,  8.16301781e-01, -2.11158081e-01,\n",
       "        1.29600433e+00,  5.50733007e-01,  1.45453680e-01,  9.29121521e-01,\n",
       "        5.84432130e-01, -8.30155860e-01,  2.48266678e+00,  1.57530018e+00,\n",
       "        5.40931799e-01,  1.88221946e+00,  1.93159230e+00,  1.14980430e+00,\n",
       "        1.17075469e+00,  5.56616000e-01,  8.12404267e-01,  2.75953901e+00,\n",
       "        4.03367776e-01,  7.67347368e-01,  1.25740905e+00,  4.10823124e-01,\n",
       "       -6.38979170e-02,  6.66352044e-01,  1.65773346e+00,  3.58472219e-01,\n",
       "        3.35474441e-01,  4.43800114e-01, -5.36089232e-01,  3.29183195e+00,\n",
       "        1.51214790e+00,  1.48239466e+00, -7.10264137e-01,  1.84658549e+00,\n",
       "        1.34329031e+00, -8.10580568e-01, -2.41393344e-01,  2.48764605e+00,\n",
       "        1.63773628e+00,  1.51068601e+00,  3.60972071e-02, -6.06140780e-02,\n",
       "        1.20473214e+00, -3.76955818e-01,  1.72064358e+00,  9.53883086e-02,\n",
       "       -1.86402717e+00,  1.93660962e+00,  5.43217437e-04,  1.03646880e+00,\n",
       "       -3.34997056e-02, -3.68734595e-02,  1.67552936e+00,  1.59322491e+00,\n",
       "        1.36130670e+00,  2.11729390e+00,  9.46194887e-01,  5.68006358e-01,\n",
       "       -8.15395780e-01, -5.28032516e-01,  7.18984971e-01,  2.78913560e+00,\n",
       "        2.80046595e+00,  1.68849769e+00,  1.15903405e+00,  1.57935363e+00,\n",
       "        1.72483604e+00,  3.58089883e-01,  7.65890018e-01,  1.87825755e+00,\n",
       "        3.55437406e-01, -1.29183438e+00,  1.40332749e+00,  2.71553461e+00,\n",
       "        1.07312846e+00,  3.72419903e-01,  7.90453243e-01,  1.20133918e+00,\n",
       "        1.98547068e+00, -4.55782952e-01,  3.61690720e+00,  3.49885468e+00,\n",
       "        2.71462990e+00,  4.51723891e-02, -9.06000622e-03,  1.17637933e+00,\n",
       "       -5.72023637e-01,  8.15786713e-01,  5.64071315e-01, -9.21842034e-01,\n",
       "        1.36826158e+00,  1.94087730e+00, -8.45708926e-02,  1.14106371e+00,\n",
       "       -2.35773460e-02,  3.02322900e+00,  1.00446729e+00,  4.84085641e-01,\n",
       "        4.45901885e-01,  3.84481405e-01,  2.41030118e+00,  3.05378484e-01,\n",
       "       -1.43807685e-01,  1.72299767e+00, -1.16226538e+00,  1.64555428e+00,\n",
       "        2.08328681e+00,  1.81628729e+00,  1.34314306e-01,  6.92237473e-01,\n",
       "        4.28206997e-01,  1.30341732e+00,  8.96228758e-01,  4.05127821e-01,\n",
       "        1.96058166e+00,  8.65767817e-01,  1.32926200e+00,  2.58108971e+00,\n",
       "        1.52489320e+00,  7.59446219e-01,  7.72663167e-01,  3.40397144e-01,\n",
       "        1.42269939e+00,  3.47201026e+00,  4.54232105e-01,  3.86086522e-01,\n",
       "        1.12234125e+00,  3.26908476e+00, -6.89758581e-01, -1.48048445e-01,\n",
       "        1.60373131e+00,  2.03580158e+00,  1.61108455e-01,  2.05705928e+00,\n",
       "       -6.69743038e-01,  7.88043009e-01, -9.35605403e-02, -5.67182670e-02,\n",
       "        1.65555981e+00, -1.30963151e+00,  1.62684353e+00,  1.86389309e+00,\n",
       "        1.53846589e+00,  1.19567215e+00,  1.73780078e+00,  1.42485296e+00,\n",
       "       -1.06175600e+00,  2.18804511e+00,  1.58169880e+00,  6.38986508e-02,\n",
       "        8.80451152e-01, -5.01020214e-01,  2.03007062e+00,  1.69834886e+00,\n",
       "        2.04175339e+00,  1.23340834e+00,  1.88826728e+00,  1.67583023e+00])"
      ]
     },
     "execution_count": 51,
     "metadata": {},
     "output_type": "execute_result"
    }
   ],
   "source": [
    "population"
   ]
  },
  {
   "cell_type": "code",
   "execution_count": 52,
   "metadata": {},
   "outputs": [
    {
     "data": {
      "text/plain": [
       "(array([  2.,   2.,   4.,   8.,  16.,  16.,  30.,  33.,  65.,  55.,  90.,\n",
       "         82., 103.,  94.,  83.,  77.,  79.,  45.,  36.,  26.,  24.,  14.,\n",
       "          8.,   5.,   3.]),\n",
       " array([-2.0926295 , -1.85577826, -1.61892702, -1.38207578, -1.14522453,\n",
       "        -0.90837329, -0.67152205, -0.43467081, -0.19781956,  0.03903168,\n",
       "         0.27588292,  0.51273416,  0.74958541,  0.98643665,  1.22328789,\n",
       "         1.46013913,  1.69699038,  1.93384162,  2.17069286,  2.4075441 ,\n",
       "         2.64439535,  2.88124659,  3.11809783,  3.35494907,  3.59180032,\n",
       "         3.82865156]),\n",
       " <a list of 25 Patch objects>)"
      ]
     },
     "execution_count": 52,
     "metadata": {},
     "output_type": "execute_result"
    },
    {
     "data": {
      "image/png": "[encoded data removed]",
      "text/plain": [
       "<Figure size 432x288 with 1 Axes>"
      ]
     },
     "metadata": {
      "needs_background": "light"
     },
     "output_type": "display_data"
    }
   ],
   "source": [
    "plt.hist(population, bins = 25)"
   ]
  },
  {
   "cell_type": "code",
   "execution_count": 53,
   "metadata": {},
   "outputs": [
    {
     "data": {
      "text/plain": [
       "0.9816196135500092"
      ]
     },
     "execution_count": 53,
     "metadata": {},
     "output_type": "execute_result"
    }
   ],
   "source": [
    "np.mean(population)"
   ]
  },
  {
   "cell_type": "markdown",
   "metadata": {},
   "source": [
    "### Now let's pretend we can't see the population - only a sample"
   ]
  },
  {
   "cell_type": "code",
   "execution_count": 60,
   "metadata": {},
   "outputs": [],
   "source": [
    "sample = np.random.choice(population, size = 50)"
   ]
  },
  {
   "cell_type": "code",
   "execution_count": 61,
   "metadata": {},
   "outputs": [
    {
     "data": {
      "text/plain": [
       "array([-0.35151993,  0.6058701 ,  1.30341732,  1.54134922, -0.3247882 ,\n",
       "        3.36126322,  0.32252106, -0.71026414,  1.00446729,  0.32442237,\n",
       "        1.63773628,  1.7928564 , -0.20895392, -0.35151993,  0.77266317,\n",
       "        0.71014994,  1.15291583, -0.05605403,  1.47262673,  0.55164631,\n",
       "        0.3859095 , -0.15406394,  2.7146299 ,  1.80963514, -0.97050975,\n",
       "        1.40178071,  1.34547803,  1.52136931,  1.71386542,  1.56053318,\n",
       "        1.65341177,  2.00560497,  1.81396677, -0.05671827,  1.56706944,\n",
       "        1.82913853,  0.32636625,  1.25124015, -1.03271199,  1.01946688,\n",
       "        2.27712631,  1.67383753,  1.11655369,  2.53606203,  1.3347262 ,\n",
       "        1.83535356,  1.81775369,  1.72064358,  1.68055084,  1.329262  ])"
      ]
     },
     "execution_count": 61,
     "metadata": {},
     "output_type": "execute_result"
    }
   ],
   "source": [
    "sample"
   ]
  },
  {
   "cell_type": "markdown",
   "metadata": {},
   "source": [
    "### We know from the law of large numbers this should converge towards the mean"
   ]
  },
  {
   "cell_type": "code",
   "execution_count": 62,
   "metadata": {},
   "outputs": [
    {
     "data": {
      "text/plain": [
       "1.0715627303671105"
      ]
     },
     "execution_count": 62,
     "metadata": {},
     "output_type": "execute_result"
    }
   ],
   "source": [
    "sample_mean = np.mean(sample)\n",
    "sample_mean"
   ]
  },
  {
   "cell_type": "markdown",
   "metadata": {},
   "source": [
    "### And Let's construction a confidence interval\n",
    "### remember, we need the standard error, which is just\n",
    "### $se = sd(X)/\\sqrt(N)$"
   ]
  },
  {
   "cell_type": "code",
   "execution_count": 63,
   "metadata": {},
   "outputs": [],
   "source": [
    "se = np.std(sample)/np.sqrt(50)"
   ]
  },
  {
   "cell_type": "code",
   "execution_count": 64,
   "metadata": {},
   "outputs": [
    {
     "data": {
      "text/plain": [
       "0.13530897102320805"
      ]
     },
     "execution_count": 64,
     "metadata": {},
     "output_type": "execute_result"
    }
   ],
   "source": [
    "se"
   ]
  },
  {
   "cell_type": "markdown",
   "metadata": {},
   "source": [
    "### By the CLT - we know that our sample means are distributed normally\n",
    "### So we construct a confidence interval around this sample that is normaly distributed\n",
    "### that means +- 1.96 sd (in this case or sd is se) contains 95% of observations"
   ]
  },
  {
   "cell_type": "code",
   "execution_count": 65,
   "metadata": {},
   "outputs": [
    {
     "name": "stdout",
     "output_type": "stream",
     "text": [
      "Confidence Interval is:  0.806 1.337\n"
     ]
    }
   ],
   "source": [
    "low_ci = sample_mean - 1.96*se\n",
    "high_ci = sample_mean + 1.96*se\n",
    "print(\"Confidence Interval is: \",low_ci.round(3),high_ci.round(3))"
   ]
  },
  {
   "cell_type": "markdown",
   "metadata": {},
   "source": [
    "### Does this contain the true mean?\n",
    "\n",
    "### Let's do a quick bootstrap to see the sample mean distribtion"
   ]
  },
  {
   "cell_type": "code",
   "execution_count": 70,
   "metadata": {},
   "outputs": [
    {
     "data": {
      "text/plain": [
       "(array([  2.,   3.,   3.,   2.,   9.,  17.,  33.,  35.,  54.,  85., 102.,\n",
       "        103., 109.,  96., 101.,  74.,  55.,  43.,  28.,  25.,   9.,   6.,\n",
       "          3.,   2.,   1.]),\n",
       " array([0.49939002, 0.53723645, 0.57508287, 0.61292929, 0.65077572,\n",
       "        0.68862214, 0.72646856, 0.76431499, 0.80216141, 0.84000783,\n",
       "        0.87785426, 0.91570068, 0.95354711, 0.99139353, 1.02923995,\n",
       "        1.06708638, 1.1049328 , 1.14277922, 1.18062565, 1.21847207,\n",
       "        1.25631849, 1.29416492, 1.33201134, 1.36985777, 1.40770419,\n",
       "        1.44555061]),\n",
       " <a list of 25 Patch objects>)"
      ]
     },
     "execution_count": 70,
     "metadata": {},
     "output_type": "execute_result"
    },
    {
     "data": {
      "image/png": "[encoded data removed]",
      "text/plain": [
       "<Figure size 432x288 with 1 Axes>"
      ]
     },
     "metadata": {
      "needs_background": "light"
     },
     "output_type": "display_data"
    }
   ],
   "source": [
    "num_iter = 1000\n",
    "\n",
    "means = []\n",
    "\n",
    "for num in range(num_iter):\n",
    "    this_sample = np.random.choice(population, size = 50)\n",
    "    \n",
    "    means.append(np.mean(this_sample))\n",
    "    \n",
    "    \n",
    "plt.hist(means, bins = 25)\n"
   ]
  },
  {
   "cell_type": "code",
   "execution_count": 71,
   "metadata": {},
   "outputs": [
    {
     "data": {
      "text/plain": [
       "(array([  2.,   2.,   4.,   8.,  16.,  16.,  30.,  33.,  65.,  55.,  90.,\n",
       "         82., 103.,  94.,  83.,  77.,  79.,  45.,  36.,  26.,  24.,  14.,\n",
       "          8.,   5.,   3.]),\n",
       " array([-2.0926295 , -1.85577826, -1.61892702, -1.38207578, -1.14522453,\n",
       "        -0.90837329, -0.67152205, -0.43467081, -0.19781956,  0.03903168,\n",
       "         0.27588292,  0.51273416,  0.74958541,  0.98643665,  1.22328789,\n",
       "         1.46013913,  1.69699038,  1.93384162,  2.17069286,  2.4075441 ,\n",
       "         2.64439535,  2.88124659,  3.11809783,  3.35494907,  3.59180032,\n",
       "         3.82865156]),\n",
       " <a list of 25 Patch objects>)"
      ]
     },
     "execution_count": 71,
     "metadata": {},
     "output_type": "execute_result"
    },
    {
     "data": {
      "image/png": "[encoded data removed]",
      "text/plain": [
       "<Figure size 432x288 with 1 Axes>"
      ]
     },
     "metadata": {
      "needs_background": "light"
     },
     "output_type": "display_data"
    }
   ],
   "source": [
    "plt.hist(means, bins = 12)\n",
    "plt.hist(population, bins = 25, alpha = .5)"
   ]
  },
  {
   "cell_type": "markdown",
   "metadata": {},
   "source": [
    "### What is the standard deviation"
   ]
  },
  {
   "cell_type": "code",
   "execution_count": 72,
   "metadata": {},
   "outputs": [
    {
     "data": {
      "text/plain": [
       "0.13988482445639205"
      ]
     },
     "execution_count": 72,
     "metadata": {},
     "output_type": "execute_result"
    }
   ],
   "source": [
    "np.std(means)"
   ]
  },
  {
   "cell_type": "markdown",
   "metadata": {},
   "source": [
    "### Remember, we calculated (off a small sample):"
   ]
  },
  {
   "cell_type": "code",
   "execution_count": 73,
   "metadata": {},
   "outputs": [
    {
     "data": {
      "text/plain": [
       "0.13530897102320805"
      ]
     },
     "execution_count": 73,
     "metadata": {},
     "output_type": "execute_result"
    }
   ],
   "source": [
    "se"
   ]
  },
  {
   "cell_type": "markdown",
   "metadata": {},
   "source": [
    "### Not bad\n",
    "\n",
    "### How many of the means we simulated would have captured the true mean?"
   ]
  },
  {
   "cell_type": "code",
   "execution_count": 74,
   "metadata": {},
   "outputs": [],
   "source": [
    "captured = []\n",
    "failed = []\n",
    "\n",
    "for this_mean in means:\n",
    "    \n",
    "    low_bound = this_mean - 1.96*se\n",
    "    high_bound = this_mean + 1.96*se\n",
    "    \n",
    "    if low_bound > 1 or high_bound < 1:\n",
    "        failed.append(this_mean)\n",
    "    else:\n",
    "        captured.append(this_mean)\n",
    "    "
   ]
  },
  {
   "cell_type": "code",
   "execution_count": 75,
   "metadata": {},
   "outputs": [
    {
     "data": {
      "text/plain": [
       "(array([22., 24., 29., 41., 65., 62., 76., 63., 75., 79., 68., 77., 65.,\n",
       "        41., 41., 32., 29., 18., 22., 13.]),\n",
       " array([0.73483057, 0.76134505, 0.78785954, 0.81437402, 0.8408885 ,\n",
       "        0.86740299, 0.89391747, 0.92043196, 0.94694644, 0.97346093,\n",
       "        0.99997541, 1.0264899 , 1.05300438, 1.07951887, 1.10603335,\n",
       "        1.13254784, 1.15906232, 1.1855768 , 1.21209129, 1.23860577,\n",
       "        1.26512026]),\n",
       " <a list of 20 Patch objects>)"
      ]
     },
     "execution_count": 75,
     "metadata": {},
     "output_type": "execute_result"
    },
    {
     "data": {
      "image/png": "[encoded data removed]",
      "text/plain": [
       "<Figure size 432x288 with 1 Axes>"
      ]
     },
     "metadata": {
      "needs_background": "light"
     },
     "output_type": "display_data"
    }
   ],
   "source": [
    "plt.hist(captured, bins = 20)"
   ]
  },
  {
   "cell_type": "code",
   "execution_count": 76,
   "metadata": {},
   "outputs": [
    {
     "data": {
      "text/plain": [
       "(array([ 3.,  3.,  3., 10., 23.,  0.,  0.,  0.,  0.,  0.,  0.,  0.,  0.,\n",
       "         0.,  0.,  0.,  7.,  5.,  3.,  1.]),\n",
       " array([0.49939002, 0.54669805, 0.59400608, 0.64131411, 0.68862214,\n",
       "        0.73593017, 0.7832382 , 0.83054623, 0.87785426, 0.92516229,\n",
       "        0.97247032, 1.01977835, 1.06708638, 1.11439441, 1.16170244,\n",
       "        1.20901046, 1.25631849, 1.30362652, 1.35093455, 1.39824258,\n",
       "        1.44555061]),\n",
       " <a list of 20 Patch objects>)"
      ]
     },
     "execution_count": 76,
     "metadata": {},
     "output_type": "execute_result"
    },
    {
     "data": {
      "image/png": "[encoded data removed]",
      "text/plain": [
       "<Figure size 432x288 with 1 Axes>"
      ]
     },
     "metadata": {
      "needs_background": "light"
     },
     "output_type": "display_data"
    }
   ],
   "source": [
    "plt.hist(failed, bins = 20, color = 'orange')"
   ]
  },
  {
   "cell_type": "code",
   "execution_count": 77,
   "metadata": {},
   "outputs": [
    {
     "data": {
      "text/plain": [
       "(array([ 3.,  3.,  3., 10., 23.,  0.,  0.,  0.,  0.,  0.,  0.,  0.,  0.,\n",
       "         0.,  0.,  0.,  7.,  5.,  3.,  1.]),\n",
       " array([0.49939002, 0.54669805, 0.59400608, 0.64131411, 0.68862214,\n",
       "        0.73593017, 0.7832382 , 0.83054623, 0.87785426, 0.92516229,\n",
       "        0.97247032, 1.01977835, 1.06708638, 1.11439441, 1.16170244,\n",
       "        1.20901046, 1.25631849, 1.30362652, 1.35093455, 1.39824258,\n",
       "        1.44555061]),\n",
       " <a list of 20 Patch objects>)"
      ]
     },
     "execution_count": 77,
     "metadata": {},
     "output_type": "execute_result"
    },
    {
     "data": {
      "image/png": "[encoded data removed]",
      "text/plain": [
       "<Figure size 432x288 with 1 Axes>"
      ]
     },
     "metadata": {
      "needs_background": "light"
     },
     "output_type": "display_data"
    }
   ],
   "source": [
    "plt.hist(captured, bins = 20)\n",
    "plt.hist(failed, bins = 20)"
   ]
  },
  {
   "cell_type": "markdown",
   "metadata": {},
   "source": [
    "### How many captured the true mean?"
   ]
  },
  {
   "cell_type": "code",
   "execution_count": 78,
   "metadata": {},
   "outputs": [
    {
     "data": {
      "text/plain": [
       "94.2"
      ]
     },
     "execution_count": 78,
     "metadata": {},
     "output_type": "execute_result"
    }
   ],
   "source": [
    "len(captured)*100/1000 #captured the true mean"
   ]
  },
  {
   "cell_type": "code",
   "execution_count": 79,
   "metadata": {},
   "outputs": [
    {
     "data": {
      "text/plain": [
       "5.8"
      ]
     },
     "execution_count": 79,
     "metadata": {},
     "output_type": "execute_result"
    }
   ],
   "source": [
    "len(failed)*100/1000 #failed to capture it"
   ]
  },
  {
   "cell_type": "markdown",
   "metadata": {},
   "source": [
    "### How does this relate to hypothesis testing?\n",
    "\n",
    "### We know that 95% of our confidence intervals DO contain the true mean\n",
    "\n",
    "### So if we have a null - and that null is NOT in our confidence interval\n",
    "\n",
    "### then we can reject it - we know that only 5% of the time will we in fact not have the true mean in our confidence interval\n",
    "\n",
    "### Therefore if the null is NOT in our confidence interval, we reject it. \n",
    "\n",
    "### Even if the null is in fact true - we will only end up rejecting it 5% of the time (type I error). \n",
    "\n",
    "### In this case, if our null was that the mean is 1, we would reject it only around 5% of time - and these would be type one errors"
   ]
  },
  {
   "cell_type": "markdown",
   "metadata": {},
   "source": [
    "# What to take for Data Science?\n",
    "\n",
    "## Datascience is not a unified field. It is a combination of CS, Math, and Statistics, with a significant amount of outside theory and intuition. There is no one way to make or be a datascientist - its a diverse skills set.\n",
    "\n",
    "## That said, there are certain key skills. These are necessary for a deep understanding what you are doing and why, and are worth pursing if you want to be a datascientist or work primarily with data. \n",
    "\n",
    "## Finally, classes are scarce/expensive. Figure out what you want to learn and pursue that. Don't waste classes.\n",
    "\n",
    "# MATH/Stats - critical\n",
    "### - Calculus 1-3 (up to multivariate calculus)\n",
    "### - Probability Theory\n",
    "### - Linear Algebra (two semesters)\n",
    "### - Real Analysis (optional)\n",
    "### - Mathematical Statistics\n",
    "### - Econometrics (optional but key for social science)\n",
    "\n",
    "# CS/Programming\n",
    "### - Python ! \n",
    "### - R (also useful)\n",
    "### - Fundamental Algorithms (optional)\n",
    "### - Big data/Databases (optional)\n",
    " \n",
    "# Datascience Classes\n",
    "### - Machine Learning  \n",
    "### - Deep Learning (optional)\n",
    "### - Natural Languate Processessing (optional)\n",
    "### - Causal Inference \n",
    "\n",
    "\n"
   ]
  },
  {
   "cell_type": "code",
   "execution_count": null,
   "metadata": {},
   "outputs": [],
   "source": []
  }
 ],
 "metadata": {
  "kernelspec": {
   "display_name": "Python 3",
   "language": "python",
   "name": "python3"
  },
  "language_info": {
   "codemirror_mode": {
    "name": "ipython",
    "version": 3
   },
   "file_extension": ".py",
   "mimetype": "text/x-python",
   "name": "python",
   "nbconvert_exporter": "python",
   "pygments_lexer": "ipython3",
   "version": "3.7.3"
  },
  "varInspector": {
   "cols": {
    "lenName": 16,
    "lenType": 16,
    "lenVar": 40
   },
   "kernels_config": {
    "python": {
     "delete_cmd_postfix": "",
     "delete_cmd_prefix": "del ",
     "library": "var_list.py",
     "varRefreshCmd": "print(var_dic_list())"
    },
    "r": {
     "delete_cmd_postfix": ") ",
     "delete_cmd_prefix": "rm(",
     "library": "var_list.r",
     "varRefreshCmd": "cat(var_dic_list()) "
    }
   },
   "types_to_exclude": [
    "module",
    "function",
    "builtin_function_or_method",
    "instance",
    "_Feature"
   ],
   "window_display": false
  }
 },
 "nbformat": 4,
 "nbformat_minor": 2
}
